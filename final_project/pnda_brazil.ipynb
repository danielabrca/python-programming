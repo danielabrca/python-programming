{
 "cells": [
  {
   "cell_type": "code",
   "execution_count": 1,
   "metadata": {},
   "outputs": [],
   "source": [
    "import pandas as pd\n",
    "import json\n",
    "import requests\n",
    "import matplotlib.pyplot as plt\n",
    "%matplotlib inline"
   ]
  },
  {
   "cell_type": "markdown",
   "metadata": {},
   "source": [
    "<b>Get the Brazilian Working-Age and Workforce Population data and save as json files"
   ]
  },
  {
   "cell_type": "code",
   "execution_count": null,
   "metadata": {},
   "outputs": [],
   "source": [
    "# Table '1641': Working-Age Population: It's defined as those aged 14 and over (PIA - População em Idade Ativa)\n",
    "# Table '4090': Workforce Population: Include those aged 14 years and over who worked in 2018\n",
    "\n",
    "table_list = ['1641', '4090']\n",
    "for table_code in table_list:\n",
    "    try:\n",
    "        url = 'http://api.sidra.ibge.gov.br/values/t/4093/p/201801-201804/v/{}/c2/6794/n1/1/n2/1,2,3,4,5'.format(table_code)\n",
    "        r = requests.get(url)\n",
    "        data = r.json()\n",
    "        filename = 'table_{}.json'.format(table_code)\n",
    "      \n",
    "        with open(filename, 'w') as outfile:\n",
    "            json.dump(data, outfile, indent=4)\n",
    "    except:\n",
    "        pass"
   ]
  },
  {
   "cell_type": "markdown",
   "metadata": {},
   "source": [
    "<b>Read the working age and workforce json files created"
   ]
  },
  {
   "cell_type": "code",
   "execution_count": 3,
   "metadata": {},
   "outputs": [],
   "source": [
    "df_working_age = pd.read_json('table_1641.json')\n",
    "df_workforce = pd.read_json('table_4090.json')"
   ]
  },
  {
   "cell_type": "code",
   "execution_count": 19,
   "metadata": {},
   "outputs": [
    {
     "name": "stdout",
     "output_type": "stream",
     "text": [
      "<class 'pandas.core.frame.DataFrame'>\n",
      "RangeIndex: 24 entries, 0 to 23\n",
      "Data columns (total 3 columns):\n",
      "quarter             24 non-null object\n",
      "region              24 non-null object\n",
      "population_x1000    24 non-null int32\n",
      "dtypes: int32(1), object(2)\n",
      "memory usage: 352.0+ bytes\n"
     ]
    }
   ],
   "source": [
    "df_working_age.info()"
   ]
  },
  {
   "cell_type": "code",
   "execution_count": 4,
   "metadata": {},
   "outputs": [
    {
     "data": {
      "text/html": [
       "<div>\n",
       "<style scoped>\n",
       "    .dataframe tbody tr th:only-of-type {\n",
       "        vertical-align: middle;\n",
       "    }\n",
       "\n",
       "    .dataframe tbody tr th {\n",
       "        vertical-align: top;\n",
       "    }\n",
       "\n",
       "    .dataframe thead th {\n",
       "        text-align: right;\n",
       "    }\n",
       "</style>\n",
       "<table border=\"1\" class=\"dataframe\">\n",
       "  <thead>\n",
       "    <tr style=\"text-align: right;\">\n",
       "      <th></th>\n",
       "      <th>NC</th>\n",
       "      <th>NN</th>\n",
       "      <th>D1C</th>\n",
       "      <th>D1N</th>\n",
       "      <th>D2C</th>\n",
       "      <th>D2N</th>\n",
       "      <th>D3C</th>\n",
       "      <th>D3N</th>\n",
       "      <th>D4C</th>\n",
       "      <th>D4N</th>\n",
       "      <th>MC</th>\n",
       "      <th>MN</th>\n",
       "      <th>V</th>\n",
       "    </tr>\n",
       "  </thead>\n",
       "  <tbody>\n",
       "    <tr>\n",
       "      <td>0</td>\n",
       "      <td>Nível Territorial (Código)</td>\n",
       "      <td>Nível Territorial</td>\n",
       "      <td>Trimestre (Código)</td>\n",
       "      <td>Trimestre</td>\n",
       "      <td>Variável (Código)</td>\n",
       "      <td>Variável</td>\n",
       "      <td>Sexo (Código)</td>\n",
       "      <td>Sexo</td>\n",
       "      <td>Brasil e Grande Região (Código)</td>\n",
       "      <td>Brasil e Grande Região</td>\n",
       "      <td>Unidade de Medida (Código)</td>\n",
       "      <td>Unidade de Medida</td>\n",
       "      <td>Valor</td>\n",
       "    </tr>\n",
       "    <tr>\n",
       "      <td>1</td>\n",
       "      <td>1</td>\n",
       "      <td>Brasil</td>\n",
       "      <td>201801</td>\n",
       "      <td>1º trimestre 2018</td>\n",
       "      <td>1641</td>\n",
       "      <td>Pessoas de 14 anos ou mais de idade</td>\n",
       "      <td>6794</td>\n",
       "      <td>Total</td>\n",
       "      <td>1</td>\n",
       "      <td>Brasil</td>\n",
       "      <td>1572</td>\n",
       "      <td>Mil pessoas</td>\n",
       "      <td>168508</td>\n",
       "    </tr>\n",
       "    <tr>\n",
       "      <td>2</td>\n",
       "      <td>2</td>\n",
       "      <td>Grande Região</td>\n",
       "      <td>201801</td>\n",
       "      <td>1º trimestre 2018</td>\n",
       "      <td>1641</td>\n",
       "      <td>Pessoas de 14 anos ou mais de idade</td>\n",
       "      <td>6794</td>\n",
       "      <td>Total</td>\n",
       "      <td>1</td>\n",
       "      <td>Norte</td>\n",
       "      <td>1572</td>\n",
       "      <td>Mil pessoas</td>\n",
       "      <td>13599</td>\n",
       "    </tr>\n",
       "    <tr>\n",
       "      <td>3</td>\n",
       "      <td>2</td>\n",
       "      <td>Grande Região</td>\n",
       "      <td>201801</td>\n",
       "      <td>1º trimestre 2018</td>\n",
       "      <td>1641</td>\n",
       "      <td>Pessoas de 14 anos ou mais de idade</td>\n",
       "      <td>6794</td>\n",
       "      <td>Total</td>\n",
       "      <td>2</td>\n",
       "      <td>Nordeste</td>\n",
       "      <td>1572</td>\n",
       "      <td>Mil pessoas</td>\n",
       "      <td>44992</td>\n",
       "    </tr>\n",
       "    <tr>\n",
       "      <td>4</td>\n",
       "      <td>2</td>\n",
       "      <td>Grande Região</td>\n",
       "      <td>201801</td>\n",
       "      <td>1º trimestre 2018</td>\n",
       "      <td>1641</td>\n",
       "      <td>Pessoas de 14 anos ou mais de idade</td>\n",
       "      <td>6794</td>\n",
       "      <td>Total</td>\n",
       "      <td>3</td>\n",
       "      <td>Sudeste</td>\n",
       "      <td>1572</td>\n",
       "      <td>Mil pessoas</td>\n",
       "      <td>72476</td>\n",
       "    </tr>\n",
       "  </tbody>\n",
       "</table>\n",
       "</div>"
      ],
      "text/plain": [
       "                           NC                 NN                 D1C  \\\n",
       "0  Nível Territorial (Código)  Nível Territorial  Trimestre (Código)   \n",
       "1                           1             Brasil              201801   \n",
       "2                           2      Grande Região              201801   \n",
       "3                           2      Grande Região              201801   \n",
       "4                           2      Grande Região              201801   \n",
       "\n",
       "                 D1N                D2C                                  D2N  \\\n",
       "0          Trimestre  Variável (Código)                             Variável   \n",
       "1  1º trimestre 2018               1641  Pessoas de 14 anos ou mais de idade   \n",
       "2  1º trimestre 2018               1641  Pessoas de 14 anos ou mais de idade   \n",
       "3  1º trimestre 2018               1641  Pessoas de 14 anos ou mais de idade   \n",
       "4  1º trimestre 2018               1641  Pessoas de 14 anos ou mais de idade   \n",
       "\n",
       "             D3C    D3N                              D4C  \\\n",
       "0  Sexo (Código)   Sexo  Brasil e Grande Região (Código)   \n",
       "1           6794  Total                                1   \n",
       "2           6794  Total                                1   \n",
       "3           6794  Total                                2   \n",
       "4           6794  Total                                3   \n",
       "\n",
       "                      D4N                          MC                 MN  \\\n",
       "0  Brasil e Grande Região  Unidade de Medida (Código)  Unidade de Medida   \n",
       "1                  Brasil                        1572        Mil pessoas   \n",
       "2                   Norte                        1572        Mil pessoas   \n",
       "3                Nordeste                        1572        Mil pessoas   \n",
       "4                 Sudeste                        1572        Mil pessoas   \n",
       "\n",
       "        V  \n",
       "0   Valor  \n",
       "1  168508  \n",
       "2   13599  \n",
       "3   44992  \n",
       "4   72476  "
      ]
     },
     "execution_count": 4,
     "metadata": {},
     "output_type": "execute_result"
    }
   ],
   "source": [
    "# Show the first 5 lines of the dataframe\n",
    "\n",
    "df_working_age.head(5)"
   ]
  },
  {
   "cell_type": "markdown",
   "metadata": {},
   "source": [
    "<b>Cleaning Dataset"
   ]
  },
  {
   "cell_type": "code",
   "execution_count": 5,
   "metadata": {},
   "outputs": [],
   "source": [
    "# Delete uncessary columns, rename columns and data in the two dataframes at the same time\n",
    "\n",
    "groupDF = [df_working_age, df_workforce]\n",
    "\n",
    "for i in groupDF:\n",
    "    i.drop(i.columns[[0,1,3,4,5,6,8,10,11]], axis=1, inplace=True)\n",
    "    i.drop([0], inplace=True)\n",
    "    i.columns = ['quarter', 'gender', 'region', 'population_x1000']\n",
    "    i.replace({'quarter': '201701'}, {'quarter': '2017Q1'}, inplace=True)\n",
    "    i.replace({'quarter': '201702'}, {'quarter': '2017Q2'}, inplace=True)\n",
    "    i.replace({'quarter': '201703'}, {'quarter': '2017Q3'}, inplace=True)\n",
    "    i.replace({'quarter': '201704'}, {'quarter': '2017Q4'}, inplace=True)\n",
    "    i.replace({'quarter': '201801'}, {'quarter': '2018Q1'}, inplace=True)\n",
    "    i.replace({'quarter': '201802'}, {'quarter': '2018Q2'}, inplace=True)\n",
    "    i.replace({'quarter': '201803'}, {'quarter': '2018Q3'}, inplace=True)\n",
    "    i.replace({'quarter': '201804'}, {'quarter': '2018Q4'}, inplace=True)\n",
    "    i = i.reset_index(drop=True, inplace=True)"
   ]
  },
  {
   "cell_type": "code",
   "execution_count": 6,
   "metadata": {},
   "outputs": [],
   "source": [
    "# Change datatype of column 'population_x1000' in dataframes\n",
    "\n",
    "df_working_age['population_x1000'] = df_working_age.population_x1000.astype(int)\n",
    "df_workforce['population_x1000'] = df_workforce.population_x1000.astype(int)"
   ]
  },
  {
   "cell_type": "code",
   "execution_count": 7,
   "metadata": {},
   "outputs": [],
   "source": [
    "# Delete 'gender' column from dataframes\n",
    "\n",
    "df_working_age.drop('gender', axis=1, inplace=True)\n",
    "df_workforce.drop('gender', axis=1, inplace=True)"
   ]
  },
  {
   "cell_type": "code",
   "execution_count": 8,
   "metadata": {},
   "outputs": [
    {
     "data": {
      "text/html": [
       "<div>\n",
       "<style scoped>\n",
       "    .dataframe tbody tr th:only-of-type {\n",
       "        vertical-align: middle;\n",
       "    }\n",
       "\n",
       "    .dataframe tbody tr th {\n",
       "        vertical-align: top;\n",
       "    }\n",
       "\n",
       "    .dataframe thead th {\n",
       "        text-align: right;\n",
       "    }\n",
       "</style>\n",
       "<table border=\"1\" class=\"dataframe\">\n",
       "  <thead>\n",
       "    <tr style=\"text-align: right;\">\n",
       "      <th></th>\n",
       "      <th>quarter</th>\n",
       "      <th>region</th>\n",
       "      <th>population_x1000</th>\n",
       "    </tr>\n",
       "  </thead>\n",
       "  <tbody>\n",
       "    <tr>\n",
       "      <td>0</td>\n",
       "      <td>2018Q1</td>\n",
       "      <td>Brasil</td>\n",
       "      <td>168508</td>\n",
       "    </tr>\n",
       "    <tr>\n",
       "      <td>1</td>\n",
       "      <td>2018Q1</td>\n",
       "      <td>Norte</td>\n",
       "      <td>13599</td>\n",
       "    </tr>\n",
       "    <tr>\n",
       "      <td>2</td>\n",
       "      <td>2018Q1</td>\n",
       "      <td>Nordeste</td>\n",
       "      <td>44992</td>\n",
       "    </tr>\n",
       "    <tr>\n",
       "      <td>3</td>\n",
       "      <td>2018Q1</td>\n",
       "      <td>Sudeste</td>\n",
       "      <td>72476</td>\n",
       "    </tr>\n",
       "    <tr>\n",
       "      <td>4</td>\n",
       "      <td>2018Q1</td>\n",
       "      <td>Sul</td>\n",
       "      <td>24572</td>\n",
       "    </tr>\n",
       "  </tbody>\n",
       "</table>\n",
       "</div>"
      ],
      "text/plain": [
       "  quarter    region  population_x1000\n",
       "0  2018Q1    Brasil            168508\n",
       "1  2018Q1     Norte             13599\n",
       "2  2018Q1  Nordeste             44992\n",
       "3  2018Q1   Sudeste             72476\n",
       "4  2018Q1       Sul             24572"
      ]
     },
     "execution_count": 8,
     "metadata": {},
     "output_type": "execute_result"
    }
   ],
   "source": [
    "df_working_age.head(5)"
   ]
  },
  {
   "cell_type": "code",
   "execution_count": 9,
   "metadata": {},
   "outputs": [
    {
     "data": {
      "text/html": [
       "<div>\n",
       "<style scoped>\n",
       "    .dataframe tbody tr th:only-of-type {\n",
       "        vertical-align: middle;\n",
       "    }\n",
       "\n",
       "    .dataframe tbody tr th {\n",
       "        vertical-align: top;\n",
       "    }\n",
       "\n",
       "    .dataframe thead th {\n",
       "        text-align: right;\n",
       "    }\n",
       "</style>\n",
       "<table border=\"1\" class=\"dataframe\">\n",
       "  <thead>\n",
       "    <tr style=\"text-align: right;\">\n",
       "      <th></th>\n",
       "      <th>quarter</th>\n",
       "      <th>region</th>\n",
       "      <th>population_x1000</th>\n",
       "    </tr>\n",
       "  </thead>\n",
       "  <tbody>\n",
       "    <tr>\n",
       "      <td>0</td>\n",
       "      <td>2018Q1</td>\n",
       "      <td>Brasil</td>\n",
       "      <td>90272</td>\n",
       "    </tr>\n",
       "    <tr>\n",
       "      <td>1</td>\n",
       "      <td>2018Q1</td>\n",
       "      <td>Norte</td>\n",
       "      <td>7072</td>\n",
       "    </tr>\n",
       "    <tr>\n",
       "      <td>2</td>\n",
       "      <td>2018Q1</td>\n",
       "      <td>Nordeste</td>\n",
       "      <td>20662</td>\n",
       "    </tr>\n",
       "    <tr>\n",
       "      <td>3</td>\n",
       "      <td>2018Q1</td>\n",
       "      <td>Sudeste</td>\n",
       "      <td>40633</td>\n",
       "    </tr>\n",
       "    <tr>\n",
       "      <td>4</td>\n",
       "      <td>2018Q1</td>\n",
       "      <td>Sul</td>\n",
       "      <td>14406</td>\n",
       "    </tr>\n",
       "    <tr>\n",
       "      <td>5</td>\n",
       "      <td>2018Q1</td>\n",
       "      <td>Centro-Oeste</td>\n",
       "      <td>7499</td>\n",
       "    </tr>\n",
       "  </tbody>\n",
       "</table>\n",
       "</div>"
      ],
      "text/plain": [
       "  quarter        region  population_x1000\n",
       "0  2018Q1        Brasil             90272\n",
       "1  2018Q1         Norte              7072\n",
       "2  2018Q1      Nordeste             20662\n",
       "3  2018Q1       Sudeste             40633\n",
       "4  2018Q1           Sul             14406\n",
       "5  2018Q1  Centro-Oeste              7499"
      ]
     },
     "execution_count": 9,
     "metadata": {},
     "output_type": "execute_result"
    }
   ],
   "source": [
    "df_workforce.head(6)"
   ]
  },
  {
   "cell_type": "code",
   "execution_count": 10,
   "metadata": {},
   "outputs": [],
   "source": [
    "# Create a new dataframe to calculate the Employment-to-Population Ratio. It is calculated by dividing the workforce\n",
    "# population by the working age population. It's used as a metric of labor and unemployment.\n",
    "\n",
    "data = [['2018Q1','Brasil'], ['2018Q1','Norte'], ['2018Q1','Nordeste'], ['2018Q1','Sudeste'], ['2018Q1','Sul'],['2018Q1', 'Centro-Oeste'],\n",
    "        ['2018Q2','Brasil'], ['2018Q2','Norte'], ['2018Q2','Nordeste'], ['2018Q2','Sudeste'], ['2018Q2','Sul'],['2018Q2', 'Centro-Oeste'],\n",
    "        ['2018Q3','Brasil'], ['2018Q3','Norte'], ['2018Q3','Nordeste'], ['2018Q3','Sudeste'], ['2018Q3','Sul'],['2018Q3', 'Centro-Oeste'],\n",
    "        ['2018Q4','Brasil'], ['2018Q4','Norte'], ['2018Q4','Nordeste'], ['2018Q4','Sudeste'], ['2018Q4','Sul'],['2018Q4', 'Centro-Oeste']]\n",
    "\n",
    "df_empl_ratio = pd.DataFrame(data, columns = ['quarter', 'region']) \n",
    "\n",
    "df_empl_ratio['ratio'] = ((df_workforce['population_x1000']/df_working_age['population_x1000'])*100).round(2)"
   ]
  },
  {
   "cell_type": "code",
   "execution_count": 11,
   "metadata": {},
   "outputs": [
    {
     "data": {
      "text/html": [
       "<div>\n",
       "<style scoped>\n",
       "    .dataframe tbody tr th:only-of-type {\n",
       "        vertical-align: middle;\n",
       "    }\n",
       "\n",
       "    .dataframe tbody tr th {\n",
       "        vertical-align: top;\n",
       "    }\n",
       "\n",
       "    .dataframe thead th {\n",
       "        text-align: right;\n",
       "    }\n",
       "</style>\n",
       "<table border=\"1\" class=\"dataframe\">\n",
       "  <thead>\n",
       "    <tr style=\"text-align: right;\">\n",
       "      <th></th>\n",
       "      <th>quarter</th>\n",
       "      <th>region</th>\n",
       "      <th>ratio</th>\n",
       "    </tr>\n",
       "  </thead>\n",
       "  <tbody>\n",
       "    <tr>\n",
       "      <td>0</td>\n",
       "      <td>2018Q1</td>\n",
       "      <td>Brasil</td>\n",
       "      <td>53.57</td>\n",
       "    </tr>\n",
       "    <tr>\n",
       "      <td>1</td>\n",
       "      <td>2018Q1</td>\n",
       "      <td>Norte</td>\n",
       "      <td>52.00</td>\n",
       "    </tr>\n",
       "    <tr>\n",
       "      <td>2</td>\n",
       "      <td>2018Q1</td>\n",
       "      <td>Nordeste</td>\n",
       "      <td>45.92</td>\n",
       "    </tr>\n",
       "    <tr>\n",
       "      <td>3</td>\n",
       "      <td>2018Q1</td>\n",
       "      <td>Sudeste</td>\n",
       "      <td>56.06</td>\n",
       "    </tr>\n",
       "    <tr>\n",
       "      <td>4</td>\n",
       "      <td>2018Q1</td>\n",
       "      <td>Sul</td>\n",
       "      <td>58.63</td>\n",
       "    </tr>\n",
       "  </tbody>\n",
       "</table>\n",
       "</div>"
      ],
      "text/plain": [
       "  quarter    region  ratio\n",
       "0  2018Q1    Brasil  53.57\n",
       "1  2018Q1     Norte  52.00\n",
       "2  2018Q1  Nordeste  45.92\n",
       "3  2018Q1   Sudeste  56.06\n",
       "4  2018Q1       Sul  58.63"
      ]
     },
     "execution_count": 11,
     "metadata": {},
     "output_type": "execute_result"
    }
   ],
   "source": [
    "df_empl_ratio.head(5)"
   ]
  },
  {
   "cell_type": "code",
   "execution_count": 12,
   "metadata": {},
   "outputs": [
    {
     "data": {
      "text/html": [
       "<div>\n",
       "<style scoped>\n",
       "    .dataframe tbody tr th:only-of-type {\n",
       "        vertical-align: middle;\n",
       "    }\n",
       "\n",
       "    .dataframe tbody tr th {\n",
       "        vertical-align: top;\n",
       "    }\n",
       "\n",
       "    .dataframe thead th {\n",
       "        text-align: right;\n",
       "    }\n",
       "</style>\n",
       "<table border=\"1\" class=\"dataframe\">\n",
       "  <thead>\n",
       "    <tr style=\"text-align: right;\">\n",
       "      <th>region</th>\n",
       "      <th>Brasil</th>\n",
       "      <th>Centro-Oeste</th>\n",
       "      <th>Nordeste</th>\n",
       "      <th>Norte</th>\n",
       "      <th>Sudeste</th>\n",
       "      <th>Sul</th>\n",
       "    </tr>\n",
       "    <tr>\n",
       "      <th>quarter</th>\n",
       "      <th></th>\n",
       "      <th></th>\n",
       "      <th></th>\n",
       "      <th></th>\n",
       "      <th></th>\n",
       "      <th></th>\n",
       "    </tr>\n",
       "  </thead>\n",
       "  <tbody>\n",
       "    <tr>\n",
       "      <td>2018Q1</td>\n",
       "      <td>168508</td>\n",
       "      <td>12869</td>\n",
       "      <td>44992</td>\n",
       "      <td>13599</td>\n",
       "      <td>72476</td>\n",
       "      <td>24572</td>\n",
       "    </tr>\n",
       "    <tr>\n",
       "      <td>2018Q2</td>\n",
       "      <td>169241</td>\n",
       "      <td>12882</td>\n",
       "      <td>45228</td>\n",
       "      <td>13693</td>\n",
       "      <td>72817</td>\n",
       "      <td>24621</td>\n",
       "    </tr>\n",
       "    <tr>\n",
       "      <td>2018Q3</td>\n",
       "      <td>169734</td>\n",
       "      <td>12929</td>\n",
       "      <td>45333</td>\n",
       "      <td>13771</td>\n",
       "      <td>73028</td>\n",
       "      <td>24672</td>\n",
       "    </tr>\n",
       "    <tr>\n",
       "      <td>2018Q4</td>\n",
       "      <td>170022</td>\n",
       "      <td>12936</td>\n",
       "      <td>45305</td>\n",
       "      <td>13822</td>\n",
       "      <td>73189</td>\n",
       "      <td>24771</td>\n",
       "    </tr>\n",
       "  </tbody>\n",
       "</table>\n",
       "</div>"
      ],
      "text/plain": [
       "region   Brasil  Centro-Oeste  Nordeste  Norte  Sudeste    Sul\n",
       "quarter                                                       \n",
       "2018Q1   168508         12869     44992  13599    72476  24572\n",
       "2018Q2   169241         12882     45228  13693    72817  24621\n",
       "2018Q3   169734         12929     45333  13771    73028  24672\n",
       "2018Q4   170022         12936     45305  13822    73189  24771"
      ]
     },
     "execution_count": 12,
     "metadata": {},
     "output_type": "execute_result"
    }
   ],
   "source": [
    "# creating a pivot table of the working age population in Brazil per region and total\n",
    "\n",
    "df_working_age.pivot_table(index=['quarter'], columns='region', values='population_x1000')"
   ]
  },
  {
   "cell_type": "code",
   "execution_count": 13,
   "metadata": {
    "scrolled": true
   },
   "outputs": [
    {
     "data": {
      "text/html": [
       "<div>\n",
       "<style scoped>\n",
       "    .dataframe tbody tr th:only-of-type {\n",
       "        vertical-align: middle;\n",
       "    }\n",
       "\n",
       "    .dataframe tbody tr th {\n",
       "        vertical-align: top;\n",
       "    }\n",
       "\n",
       "    .dataframe thead th {\n",
       "        text-align: right;\n",
       "    }\n",
       "</style>\n",
       "<table border=\"1\" class=\"dataframe\">\n",
       "  <thead>\n",
       "    <tr style=\"text-align: right;\">\n",
       "      <th>region</th>\n",
       "      <th>Brasil</th>\n",
       "      <th>Centro-Oeste</th>\n",
       "      <th>Nordeste</th>\n",
       "      <th>Norte</th>\n",
       "      <th>Sudeste</th>\n",
       "      <th>Sul</th>\n",
       "    </tr>\n",
       "    <tr>\n",
       "      <th>quarter</th>\n",
       "      <th></th>\n",
       "      <th></th>\n",
       "      <th></th>\n",
       "      <th></th>\n",
       "      <th></th>\n",
       "      <th></th>\n",
       "    </tr>\n",
       "  </thead>\n",
       "  <tbody>\n",
       "    <tr>\n",
       "      <td>2018Q1</td>\n",
       "      <td>90272</td>\n",
       "      <td>7499</td>\n",
       "      <td>20662</td>\n",
       "      <td>7072</td>\n",
       "      <td>40633</td>\n",
       "      <td>14406</td>\n",
       "    </tr>\n",
       "    <tr>\n",
       "      <td>2018Q2</td>\n",
       "      <td>90941</td>\n",
       "      <td>7624</td>\n",
       "      <td>20761</td>\n",
       "      <td>7147</td>\n",
       "      <td>41039</td>\n",
       "      <td>14371</td>\n",
       "    </tr>\n",
       "    <tr>\n",
       "      <td>2018Q3</td>\n",
       "      <td>92333</td>\n",
       "      <td>7736</td>\n",
       "      <td>21254</td>\n",
       "      <td>7272</td>\n",
       "      <td>41576</td>\n",
       "      <td>14495</td>\n",
       "    </tr>\n",
       "    <tr>\n",
       "      <td>2018Q4</td>\n",
       "      <td>92736</td>\n",
       "      <td>7800</td>\n",
       "      <td>21253</td>\n",
       "      <td>7326</td>\n",
       "      <td>41634</td>\n",
       "      <td>14723</td>\n",
       "    </tr>\n",
       "  </tbody>\n",
       "</table>\n",
       "</div>"
      ],
      "text/plain": [
       "region   Brasil  Centro-Oeste  Nordeste  Norte  Sudeste    Sul\n",
       "quarter                                                       \n",
       "2018Q1    90272          7499     20662   7072    40633  14406\n",
       "2018Q2    90941          7624     20761   7147    41039  14371\n",
       "2018Q3    92333          7736     21254   7272    41576  14495\n",
       "2018Q4    92736          7800     21253   7326    41634  14723"
      ]
     },
     "execution_count": 13,
     "metadata": {},
     "output_type": "execute_result"
    }
   ],
   "source": [
    "# creating a pivot table of the Population in workforce in Brazil per region and total\n",
    "\n",
    "df_workforce.pivot_table(index=['quarter'], columns='region', values='population_x1000')"
   ]
  },
  {
   "cell_type": "code",
   "execution_count": 25,
   "metadata": {},
   "outputs": [
    {
     "data": {
      "text/html": [
       "<div>\n",
       "<style scoped>\n",
       "    .dataframe tbody tr th:only-of-type {\n",
       "        vertical-align: middle;\n",
       "    }\n",
       "\n",
       "    .dataframe tbody tr th {\n",
       "        vertical-align: top;\n",
       "    }\n",
       "\n",
       "    .dataframe thead th {\n",
       "        text-align: right;\n",
       "    }\n",
       "</style>\n",
       "<table border=\"1\" class=\"dataframe\">\n",
       "  <thead>\n",
       "    <tr style=\"text-align: right;\">\n",
       "      <th>quarter</th>\n",
       "      <th>2018Q1</th>\n",
       "      <th>2018Q2</th>\n",
       "      <th>2018Q3</th>\n",
       "      <th>2018Q4</th>\n",
       "    </tr>\n",
       "    <tr>\n",
       "      <th>region</th>\n",
       "      <th></th>\n",
       "      <th></th>\n",
       "      <th></th>\n",
       "      <th></th>\n",
       "    </tr>\n",
       "  </thead>\n",
       "  <tbody>\n",
       "    <tr>\n",
       "      <td>Brasil</td>\n",
       "      <td>53.57</td>\n",
       "      <td>53.73</td>\n",
       "      <td>54.40</td>\n",
       "      <td>54.54</td>\n",
       "    </tr>\n",
       "    <tr>\n",
       "      <td>Centro-Oeste</td>\n",
       "      <td>58.27</td>\n",
       "      <td>59.18</td>\n",
       "      <td>59.83</td>\n",
       "      <td>60.30</td>\n",
       "    </tr>\n",
       "    <tr>\n",
       "      <td>Nordeste</td>\n",
       "      <td>45.92</td>\n",
       "      <td>45.90</td>\n",
       "      <td>46.88</td>\n",
       "      <td>46.91</td>\n",
       "    </tr>\n",
       "    <tr>\n",
       "      <td>Norte</td>\n",
       "      <td>52.00</td>\n",
       "      <td>52.19</td>\n",
       "      <td>52.81</td>\n",
       "      <td>53.00</td>\n",
       "    </tr>\n",
       "    <tr>\n",
       "      <td>Sudeste</td>\n",
       "      <td>56.06</td>\n",
       "      <td>56.36</td>\n",
       "      <td>56.93</td>\n",
       "      <td>56.89</td>\n",
       "    </tr>\n",
       "    <tr>\n",
       "      <td>Sul</td>\n",
       "      <td>58.63</td>\n",
       "      <td>58.37</td>\n",
       "      <td>58.75</td>\n",
       "      <td>59.44</td>\n",
       "    </tr>\n",
       "  </tbody>\n",
       "</table>\n",
       "</div>"
      ],
      "text/plain": [
       "quarter       2018Q1  2018Q2  2018Q3  2018Q4\n",
       "region                                      \n",
       "Brasil         53.57   53.73   54.40   54.54\n",
       "Centro-Oeste   58.27   59.18   59.83   60.30\n",
       "Nordeste       45.92   45.90   46.88   46.91\n",
       "Norte          52.00   52.19   52.81   53.00\n",
       "Sudeste        56.06   56.36   56.93   56.89\n",
       "Sul            58.63   58.37   58.75   59.44"
      ]
     },
     "execution_count": 25,
     "metadata": {},
     "output_type": "execute_result"
    }
   ],
   "source": [
    "# Create a pivot table of the Employment-to-Population Ratio\n",
    "\n",
    "df_empl_ratio.pivot_table(index=['region'], columns='quarter', values='ratio')"
   ]
  },
  {
   "cell_type": "code",
   "execution_count": 26,
   "metadata": {},
   "outputs": [],
   "source": [
    "# Define a new variable to plot the employment-to-population ratio\n",
    "\n",
    "df_plot = df_empl_ratio.pivot_table(index=['quarter'], columns='region', values='ratio')"
   ]
  },
  {
   "cell_type": "code",
   "execution_count": 27,
   "metadata": {},
   "outputs": [
    {
     "data": {
      "text/plain": [
       "<matplotlib.legend.Legend at 0x552fc10>"
      ]
     },
     "execution_count": 27,
     "metadata": {},
     "output_type": "execute_result"
    },
    {
     "data": {
      "text/plain": [
       "<Figure size 1080x864 with 0 Axes>"
      ]
     },
     "metadata": {},
     "output_type": "display_data"
    },
    {
     "data": {
      "image/png": "[encoded data removed]",
      "text/plain": [
       "<Figure size 432x288 with 1 Axes>"
      ]
     },
     "metadata": {
      "needs_background": "light"
     },
     "output_type": "display_data"
    }
   ],
   "source": [
    "# Plot the graph Employment-to-Population Ration per Region\n",
    "\n",
    "fig = plt.figure(figsize = (15,12))\n",
    "grid_size = (3,2)\n",
    "\n",
    "df_plot.plot(kind='bar', ylim=42, title='Employment-to-Population Ratio per Region')\n",
    "plt.legend(loc='lower center', bbox_to_anchor=(0.5, -0.4),fancybox=True, shadow=True, ncol=6)"
   ]
  },
  {
   "cell_type": "code",
   "execution_count": 28,
   "metadata": {
    "scrolled": true
   },
   "outputs": [
    {
     "data": {
      "text/plain": [
       "<Figure size 432x288 with 0 Axes>"
      ]
     },
     "metadata": {},
     "output_type": "display_data"
    }
   ],
   "source": [
    "# Save the graph as png file\n",
    "\n",
    "plt.savefig('graph_ratio.png')"
   ]
  },
  {
   "cell_type": "code",
   "execution_count": null,
   "metadata": {},
   "outputs": [],
   "source": []
  }
 ],
 "metadata": {
  "kernelspec": {
   "display_name": "Python 3",
   "language": "python",
   "name": "python3"
  },
  "language_info": {
   "codemirror_mode": {
    "name": "ipython",
    "version": 3
   },
   "file_extension": ".py",
   "mimetype": "text/x-python",
   "name": "python",
   "nbconvert_exporter": "python",
   "pygments_lexer": "ipython3",
   "version": "3.7.4"
  }
 },
 "nbformat": 4,
 "nbformat_minor": 2
}
